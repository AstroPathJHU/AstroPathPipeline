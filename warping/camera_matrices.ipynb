{
 "cells": [
  {
   "cell_type": "markdown",
   "metadata": {},
   "source": [
    "# In this notebook i want to figure out how i can use openCV's camera matrices to represent warping and unwarping"
   ]
  },
  {
   "cell_type": "code",
   "execution_count": 8,
   "metadata": {},
   "outputs": [],
   "source": [
    "#imports\n",
    "import numpy as np\n",
    "import cv2\n",
    "from warp import *"
   ]
  },
  {
   "cell_type": "code",
   "execution_count": 4,
   "metadata": {},
   "outputs": [],
   "source": [
    "#some hard-coded image parameters that will later be read from a metadata file\n",
    "n = 1344 # width in pixels\n",
    "m = 1004 # height in pixels\n",
    "n_layers = 35 # number of layers"
   ]
  },
  {
   "cell_type": "code",
   "execution_count": 5,
   "metadata": {},
   "outputs": [
    {
     "name": "stdout",
     "output_type": "stream",
     "text": [
      "init_cam_mtx:\n",
      "[[  1.   0. 672.]\n",
      " [  0.   1. 502.]\n",
      " [  0.   0.   1.]]\n",
      "\n"
     ]
    }
   ],
   "source": [
    "#initialize a camera matrix \n",
    "# all units in pixels\n",
    "fx = 1. # x focal length\n",
    "fy = 1. # y focal length\n",
    "cx = 584 # center principal point x coordinate\n",
    "#cx = n/2.\n",
    "cy = 600 # center principal point y coordinate\n",
    "#cy = m/2.\n",
    "init_cam_mtx = np.array([[fx,0.,cx],[0.,fy,cy],[0.,0.,1.]])\n",
    "print(f\"init_cam_mtx:\\n{init_cam_mtx}\\n\")"
   ]
  },
  {
   "cell_type": "code",
   "execution_count": 6,
   "metadata": {},
   "outputs": [
    {
     "name": "stdout",
     "output_type": "stream",
     "text": [
      "init_dist:\n",
      "[0. 0. 0. 0. 0. 0. 0. 0.]\n",
      "\n"
     ]
    }
   ],
   "source": [
    "#initialize a vector of distortion parameters \n",
    "#radial distortion by third-order polynomial in r^2 (numerator)\n",
    "k1 = 0.\n",
    "k2 = 0.\n",
    "k3 = 0.\n",
    "#tangential distortion\n",
    "p1 = 0.\n",
    "p2 = 0.\n",
    "#radial distortion by third-order polynomial in r^2 (denominator)\n",
    "k4 = 0.\n",
    "k5 = 0.\n",
    "k6 = 0.\n",
    "\n",
    "init_dist = np.array([k1,k2,p1,p2,k3,k4,k5,k6])\n",
    "print(f\"init_dist:\\n{init_dist}\\n\")"
   ]
  },
  {
   "cell_type": "code",
   "execution_count": null,
   "metadata": {},
   "outputs": [],
   "source": []
  }
 ],
 "metadata": {
  "kernelspec": {
   "display_name": "Python 3",
   "language": "python",
   "name": "python3"
  },
  "language_info": {
   "codemirror_mode": {
    "name": "ipython",
    "version": 3
   },
   "file_extension": ".py",
   "mimetype": "text/x-python",
   "name": "python",
   "nbconvert_exporter": "python",
   "pygments_lexer": "ipython3",
   "version": "3.7.4"
  }
 },
 "nbformat": 4,
 "nbformat_minor": 2
}
